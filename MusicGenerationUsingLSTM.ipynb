{
  "cells": [
    {
      "cell_type": "markdown",
      "metadata": {
        "id": "view-in-github",
        "colab_type": "text"
      },
      "source": [
        "<a href=\"https://colab.research.google.com/github/Shanmukh459/MusicGenerationUsingLSTM/blob/main/MusicGenerationUsingLSTM.ipynb\" target=\"_parent\"><img src=\"https://colab.research.google.com/assets/colab-badge.svg\" alt=\"Open In Colab\"/></a>"
      ]
    },
    {
      "cell_type": "code",
      "execution_count": null,
      "metadata": {
        "colab": {
          "base_uri": "https://localhost:8080/"
        },
        "id": "yxcyiPgEAWPr",
        "outputId": "19fbc766-61c8-4879-bd06-6b9669ecb096"
      },
      "outputs": [
        {
          "output_type": "stream",
          "name": "stdout",
          "text": [
            "Requirement already satisfied: numpy in /usr/local/lib/python3.10/dist-packages (1.23.5)\n",
            "Requirement already satisfied: music21 in /usr/local/lib/python3.10/dist-packages (9.1.0)\n",
            "Requirement already satisfied: tensorflow in /usr/local/lib/python3.10/dist-packages (2.13.0)\n",
            "Requirement already satisfied: chardet in /usr/local/lib/python3.10/dist-packages (from music21) (5.2.0)\n",
            "Requirement already satisfied: joblib in /usr/local/lib/python3.10/dist-packages (from music21) (1.3.2)\n",
            "Requirement already satisfied: jsonpickle in /usr/local/lib/python3.10/dist-packages (from music21) (3.0.2)\n",
            "Requirement already satisfied: matplotlib in /usr/local/lib/python3.10/dist-packages (from music21) (3.7.1)\n",
            "Requirement already satisfied: more-itertools in /usr/local/lib/python3.10/dist-packages (from music21) (10.1.0)\n",
            "Requirement already satisfied: requests in /usr/local/lib/python3.10/dist-packages (from music21) (2.31.0)\n",
            "Requirement already satisfied: webcolors>=1.5 in /usr/local/lib/python3.10/dist-packages (from music21) (1.13)\n",
            "Requirement already satisfied: absl-py>=1.0.0 in /usr/local/lib/python3.10/dist-packages (from tensorflow) (1.4.0)\n",
            "Requirement already satisfied: astunparse>=1.6.0 in /usr/local/lib/python3.10/dist-packages (from tensorflow) (1.6.3)\n",
            "Requirement already satisfied: flatbuffers>=23.1.21 in /usr/local/lib/python3.10/dist-packages (from tensorflow) (23.5.26)\n",
            "Requirement already satisfied: gast<=0.4.0,>=0.2.1 in /usr/local/lib/python3.10/dist-packages (from tensorflow) (0.4.0)\n",
            "Requirement already satisfied: google-pasta>=0.1.1 in /usr/local/lib/python3.10/dist-packages (from tensorflow) (0.2.0)\n",
            "Requirement already satisfied: grpcio<2.0,>=1.24.3 in /usr/local/lib/python3.10/dist-packages (from tensorflow) (1.57.0)\n",
            "Requirement already satisfied: h5py>=2.9.0 in /usr/local/lib/python3.10/dist-packages (from tensorflow) (3.9.0)\n",
            "Requirement already satisfied: keras<2.14,>=2.13.1 in /usr/local/lib/python3.10/dist-packages (from tensorflow) (2.13.1)\n",
            "Requirement already satisfied: libclang>=13.0.0 in /usr/local/lib/python3.10/dist-packages (from tensorflow) (16.0.6)\n",
            "Requirement already satisfied: opt-einsum>=2.3.2 in /usr/local/lib/python3.10/dist-packages (from tensorflow) (3.3.0)\n",
            "Requirement already satisfied: packaging in /usr/local/lib/python3.10/dist-packages (from tensorflow) (23.1)\n",
            "Requirement already satisfied: protobuf!=4.21.0,!=4.21.1,!=4.21.2,!=4.21.3,!=4.21.4,!=4.21.5,<5.0.0dev,>=3.20.3 in /usr/local/lib/python3.10/dist-packages (from tensorflow) (3.20.3)\n",
            "Requirement already satisfied: setuptools in /usr/local/lib/python3.10/dist-packages (from tensorflow) (67.7.2)\n",
            "Requirement already satisfied: six>=1.12.0 in /usr/local/lib/python3.10/dist-packages (from tensorflow) (1.16.0)\n",
            "Requirement already satisfied: tensorboard<2.14,>=2.13 in /usr/local/lib/python3.10/dist-packages (from tensorflow) (2.13.0)\n",
            "Requirement already satisfied: tensorflow-estimator<2.14,>=2.13.0 in /usr/local/lib/python3.10/dist-packages (from tensorflow) (2.13.0)\n",
            "Requirement already satisfied: termcolor>=1.1.0 in /usr/local/lib/python3.10/dist-packages (from tensorflow) (2.3.0)\n",
            "Requirement already satisfied: typing-extensions<4.6.0,>=3.6.6 in /usr/local/lib/python3.10/dist-packages (from tensorflow) (4.5.0)\n",
            "Requirement already satisfied: wrapt>=1.11.0 in /usr/local/lib/python3.10/dist-packages (from tensorflow) (1.15.0)\n",
            "Requirement already satisfied: tensorflow-io-gcs-filesystem>=0.23.1 in /usr/local/lib/python3.10/dist-packages (from tensorflow) (0.33.0)\n",
            "Requirement already satisfied: wheel<1.0,>=0.23.0 in /usr/local/lib/python3.10/dist-packages (from astunparse>=1.6.0->tensorflow) (0.41.2)\n",
            "Requirement already satisfied: google-auth<3,>=1.6.3 in /usr/local/lib/python3.10/dist-packages (from tensorboard<2.14,>=2.13->tensorflow) (2.17.3)\n",
            "Requirement already satisfied: google-auth-oauthlib<1.1,>=0.5 in /usr/local/lib/python3.10/dist-packages (from tensorboard<2.14,>=2.13->tensorflow) (1.0.0)\n",
            "Requirement already satisfied: markdown>=2.6.8 in /usr/local/lib/python3.10/dist-packages (from tensorboard<2.14,>=2.13->tensorflow) (3.4.4)\n",
            "Requirement already satisfied: tensorboard-data-server<0.8.0,>=0.7.0 in /usr/local/lib/python3.10/dist-packages (from tensorboard<2.14,>=2.13->tensorflow) (0.7.1)\n",
            "Requirement already satisfied: werkzeug>=1.0.1 in /usr/local/lib/python3.10/dist-packages (from tensorboard<2.14,>=2.13->tensorflow) (2.3.7)\n",
            "Requirement already satisfied: charset-normalizer<4,>=2 in /usr/local/lib/python3.10/dist-packages (from requests->music21) (3.2.0)\n",
            "Requirement already satisfied: idna<4,>=2.5 in /usr/local/lib/python3.10/dist-packages (from requests->music21) (3.4)\n",
            "Requirement already satisfied: urllib3<3,>=1.21.1 in /usr/local/lib/python3.10/dist-packages (from requests->music21) (2.0.4)\n",
            "Requirement already satisfied: certifi>=2017.4.17 in /usr/local/lib/python3.10/dist-packages (from requests->music21) (2023.7.22)\n",
            "Requirement already satisfied: contourpy>=1.0.1 in /usr/local/lib/python3.10/dist-packages (from matplotlib->music21) (1.1.0)\n",
            "Requirement already satisfied: cycler>=0.10 in /usr/local/lib/python3.10/dist-packages (from matplotlib->music21) (0.11.0)\n",
            "Requirement already satisfied: fonttools>=4.22.0 in /usr/local/lib/python3.10/dist-packages (from matplotlib->music21) (4.42.1)\n",
            "Requirement already satisfied: kiwisolver>=1.0.1 in /usr/local/lib/python3.10/dist-packages (from matplotlib->music21) (1.4.5)\n",
            "Requirement already satisfied: pillow>=6.2.0 in /usr/local/lib/python3.10/dist-packages (from matplotlib->music21) (9.4.0)\n",
            "Requirement already satisfied: pyparsing>=2.3.1 in /usr/local/lib/python3.10/dist-packages (from matplotlib->music21) (3.1.1)\n",
            "Requirement already satisfied: python-dateutil>=2.7 in /usr/local/lib/python3.10/dist-packages (from matplotlib->music21) (2.8.2)\n",
            "Requirement already satisfied: cachetools<6.0,>=2.0.0 in /usr/local/lib/python3.10/dist-packages (from google-auth<3,>=1.6.3->tensorboard<2.14,>=2.13->tensorflow) (5.3.1)\n",
            "Requirement already satisfied: pyasn1-modules>=0.2.1 in /usr/local/lib/python3.10/dist-packages (from google-auth<3,>=1.6.3->tensorboard<2.14,>=2.13->tensorflow) (0.3.0)\n",
            "Requirement already satisfied: rsa<5,>=3.1.4 in /usr/local/lib/python3.10/dist-packages (from google-auth<3,>=1.6.3->tensorboard<2.14,>=2.13->tensorflow) (4.9)\n",
            "Requirement already satisfied: requests-oauthlib>=0.7.0 in /usr/local/lib/python3.10/dist-packages (from google-auth-oauthlib<1.1,>=0.5->tensorboard<2.14,>=2.13->tensorflow) (1.3.1)\n",
            "Requirement already satisfied: MarkupSafe>=2.1.1 in /usr/local/lib/python3.10/dist-packages (from werkzeug>=1.0.1->tensorboard<2.14,>=2.13->tensorflow) (2.1.3)\n",
            "Requirement already satisfied: pyasn1<0.6.0,>=0.4.6 in /usr/local/lib/python3.10/dist-packages (from pyasn1-modules>=0.2.1->google-auth<3,>=1.6.3->tensorboard<2.14,>=2.13->tensorflow) (0.5.0)\n",
            "Requirement already satisfied: oauthlib>=3.0.0 in /usr/local/lib/python3.10/dist-packages (from requests-oauthlib>=0.7.0->google-auth-oauthlib<1.1,>=0.5->tensorboard<2.14,>=2.13->tensorflow) (3.2.2)\n"
          ]
        }
      ],
      "source": [
        "pip install numpy music21 tensorflow"
      ]
    },
    {
      "cell_type": "code",
      "execution_count": null,
      "metadata": {
        "id": "HLd6EhqTEcsm"
      },
      "outputs": [],
      "source": [
        "#importing required libraries\n",
        "from music21 import *\n",
        "import glob\n",
        "from tqdm import tqdm\n",
        "import numpy as np\n",
        "import random\n",
        "from tensorflow.keras.layers import LSTM, Dense, Input, Dropout\n",
        "from tensorflow.keras.models import Sequential, Model, load_model\n",
        "from sklearn.model_selection import train_test_split"
      ]
    },
    {
      "cell_type": "code",
      "execution_count": null,
      "metadata": {
        "colab": {
          "base_uri": "https://localhost:8080/"
        },
        "id": "0vPmHda3eDWD",
        "outputId": "7e45e3e7-4042-471c-ea06-1f514d929080"
      },
      "outputs": [
        {
          "output_type": "stream",
          "name": "stdout",
          "text": [
            "Mounted at /content/drive\n"
          ]
        }
      ],
      "source": [
        "from google.colab import drive\n",
        "drive.mount('/content/drive', force_remount=True)"
      ]
    },
    {
      "cell_type": "code",
      "execution_count": null,
      "metadata": {
        "colab": {
          "base_uri": "https://localhost:8080/"
        },
        "id": "9e-sTxJRFs0o",
        "outputId": "ea18974e-d6c2-4620-f6aa-d9f48f7fec32"
      },
      "outputs": [
        {
          "output_type": "stream",
          "name": "stderr",
          "text": [
            "\r  0%|          | 0/29 [00:00<?, ?it/s]/usr/local/lib/python3.10/dist-packages/music21/midi/translate.py:874: TranslateWarning: Unable to determine instrument from <music21.midi.MidiEvent SEQUENCE_TRACK_NAME, track=4, channel=None, data=b'Copyright \\xa9 2004 by Bernd Kr\\xfcger'>; getting generic Instrument\n",
            "  warnings.warn(\n",
            "  7%|▋         | 2/29 [00:23<05:24, 12.00s/it]/usr/local/lib/python3.10/dist-packages/music21/midi/translate.py:874: TranslateWarning: Unable to determine instrument from <music21.midi.MidiEvent SEQUENCE_TRACK_NAME, track=5, channel=None, data=b'Copyright \\xa9 2007 by Bernd Krueger'>; getting generic Instrument\n",
            "  warnings.warn(\n",
            " 17%|█▋        | 5/29 [00:51<03:58,  9.96s/it]/usr/local/lib/python3.10/dist-packages/music21/midi/translate.py:874: TranslateWarning: Unable to determine instrument from <music21.midi.MidiEvent SEQUENCE_TRACK_NAME, track=5, channel=None, data=b'Copyright \\xa9 2002 by Bernd Kr\\xfcger'>; getting generic Instrument\n",
            "  warnings.warn(\n",
            " 21%|██        | 6/29 [01:23<06:42, 17.51s/it]/usr/local/lib/python3.10/dist-packages/music21/midi/translate.py:874: TranslateWarning: Unable to determine instrument from <music21.midi.MidiEvent SEQUENCE_TRACK_NAME, track=4, channel=None, data=b'Copyright \\xa9 2002 by Bernd Kr\\xfcger'>; getting generic Instrument\n",
            "  warnings.warn(\n",
            " 28%|██▊       | 8/29 [01:37<04:08, 11.81s/it]/usr/local/lib/python3.10/dist-packages/music21/midi/translate.py:874: TranslateWarning: Unable to determine instrument from <music21.midi.MidiEvent SEQUENCE_TRACK_NAME, track=5, channel=None, data=b'Copyright \\xa9 2010 by Bernd Krueger'>; getting generic Instrument\n",
            "  warnings.warn(\n",
            " 34%|███▍      | 10/29 [02:05<04:14, 13.41s/it]/usr/local/lib/python3.10/dist-packages/music21/midi/translate.py:874: TranslateWarning: Unable to determine instrument from <music21.midi.MidiEvent SEQUENCE_TRACK_NAME, track=5, channel=None, data=b'Copyright \\xa9 2009 by Bernd Krueger'>; getting generic Instrument\n",
            "  warnings.warn(\n",
            " 55%|█████▌    | 16/29 [03:48<02:54, 13.45s/it]/usr/local/lib/python3.10/dist-packages/music21/midi/translate.py:874: TranslateWarning: Unable to determine instrument from <music21.midi.MidiEvent SEQUENCE_TRACK_NAME, track=4, channel=None, data=b'Copyright \\xa9 1999 by Bernd Kr\\xfcger'>; getting generic Instrument\n",
            "  warnings.warn(\n",
            " 62%|██████▏   | 18/29 [04:02<01:47,  9.77s/it]/usr/local/lib/python3.10/dist-packages/music21/midi/translate.py:874: TranslateWarning: Unable to determine instrument from <music21.midi.MidiEvent SEQUENCE_TRACK_NAME, track=4, channel=None, data=b'Copyright \\xa9 1997 by Bernd Krueger'>; getting generic Instrument\n",
            "  warnings.warn(\n",
            " 76%|███████▌  | 22/29 [04:36<01:00,  8.71s/it]/usr/local/lib/python3.10/dist-packages/music21/midi/translate.py:874: TranslateWarning: Unable to determine instrument from <music21.midi.MidiEvent SEQUENCE_TRACK_NAME, track=4, channel=None, data=b'Copyright \\xa9 1999 by Bernd Krueger'>; getting generic Instrument\n",
            "  warnings.warn(\n",
            " 83%|████████▎ | 24/29 [04:42<00:28,  5.71s/it]/usr/local/lib/python3.10/dist-packages/music21/midi/translate.py:874: TranslateWarning: Unable to determine instrument from <music21.midi.MidiEvent SEQUENCE_TRACK_NAME, track=4, channel=None, data=b'Copyright \\xa9 1996 by Bernd Krueger'>; getting generic Instrument\n",
            "  warnings.warn(\n",
            "100%|██████████| 29/29 [05:33<00:00, 11.50s/it]\n",
            "<ipython-input-4-f3e70af18471>:32: VisibleDeprecationWarning: Creating an ndarray from ragged nested sequences (which is a list-or-tuple of lists-or-tuples-or ndarrays with different lengths or shapes) is deprecated. If you meant to do this, you must specify 'dtype=object' when creating the ndarray.\n",
            "  notes_array = np.array([read_files(i) for i in tqdm(all_files, position = 0, leave = True)])\n"
          ]
        }
      ],
      "source": [
        "#Readind music files\n",
        "def read_files(file):\n",
        "  notes = []\n",
        "  notes_to_parse = None\n",
        "\n",
        "  #parse midi file\n",
        "  midi = converter.parse(file)\n",
        "\n",
        "  #seperating all instruments from the file\n",
        "  instru = instrument.partitionByInstrument(midi)\n",
        "\n",
        "  for part in instru.parts:\n",
        "    if 'Piano' in str(part):\n",
        "      notes_to_parse = part.recurse()\n",
        "\n",
        "      #iterate over the part and check if it is note or chord\n",
        "      #if it is chord split them into notes\n",
        "      for element in notes_to_parse:\n",
        "        if type(element) == note.Note:\n",
        "          notes.append(str(element.pitch))\n",
        "        elif type(element) == chord.Chord:\n",
        "          notes.append('.'.join(str(n) for n in element.normalOrder))\n",
        "  #returning list of notes\n",
        "  return notes\n",
        "\n",
        "\n",
        "file_path = [\"schubert\"]\n",
        "all_files = glob.glob(\"/content/drive/MyDrive/schubert/*.mid\", recursive=True)\n",
        "\n",
        "\n",
        "#reading each midi file\n",
        "notes_array = np.array([read_files(i) for i in tqdm(all_files, position = 0, leave = True)])\n",
        "\n"
      ]
    },
    {
      "cell_type": "code",
      "execution_count": null,
      "metadata": {
        "colab": {
          "base_uri": "https://localhost:8080/"
        },
        "id": "1GyB-7IRJ7qF",
        "outputId": "7f395919-5adf-4ea9-d07b-2ae871dc60fe"
      },
      "outputs": [
        {
          "output_type": "stream",
          "name": "stdout",
          "text": [
            "Unique notes:  345\n",
            "30 : 204\n",
            "50 : 182\n",
            "70 : 163\n",
            "90 : 153\n"
          ]
        }
      ],
      "source": [
        "#unique notes\n",
        "notess = sum(notes_array, [])\n",
        "unique_notes = list(set(notess))\n",
        "print(\"Unique notes: \", len(unique_notes))\n",
        "\n",
        "#notes along with their frequency\n",
        "\n",
        "freq = dict(map(lambda x: (x, notess.count(x)), unique_notes))\n",
        "\n",
        "#threshold frequency\n",
        "for i in range(30, 100, 20):\n",
        "  print(i, \":\", len(list(filter(lambda x:x[1] >= i, freq.items()))))"
      ]
    },
    {
      "cell_type": "code",
      "execution_count": null,
      "metadata": {
        "id": "dNxjD10RgpWH"
      },
      "outputs": [],
      "source": [
        "#Changing the threshold frequency to 50. and also adjusting notes_array to only have notes with frequency greater than 50\n",
        "freq_notes = dict(filter(lambda x: x[1] >= 50, freq.items()))\n",
        "\n",
        "new_notes = [[i for i in j if i in freq_notes] for j in notes_array]"
      ]
    },
    {
      "cell_type": "code",
      "execution_count": null,
      "metadata": {
        "id": "PwkJSYmBhUBz"
      },
      "outputs": [],
      "source": [
        "#dictionary having key as notes index and value as note\n",
        "ind2note = dict(enumerate(freq_notes))\n",
        "\n",
        "#dictionary having note as key and index as value\n",
        "note2ind = dict(map(reversed, ind2note.items()))"
      ]
    },
    {
      "cell_type": "code",
      "execution_count": null,
      "metadata": {
        "id": "RUOix9ETh3IW"
      },
      "outputs": [],
      "source": [
        "#timestep\n",
        "timesteps = 50\n",
        "\n",
        "#store input and output values\n",
        "x = [] ; y = []\n",
        "\n",
        "for i in new_notes:\n",
        "  for j in range(0, len(i)-timesteps):\n",
        "    inp = i[j:j+timesteps]\n",
        "    out = i[j+timesteps]\n",
        "\n",
        "\n",
        "    x.append(list(map(lambda x: note2ind[x], inp)))\n",
        "    y.append(note2ind[out])\n",
        "\n",
        "x_new = np.array(x)\n",
        "y_new = np.array(y)"
      ]
    },
    {
      "cell_type": "code",
      "execution_count": null,
      "metadata": {
        "id": "bFo2knfBjNi4"
      },
      "outputs": [],
      "source": [
        "#training and testing\n",
        "x_new = np.reshape(x_new, (len(x_new), timesteps, 1))\n",
        "y_new = np.reshape(y_new, (-1, 1))\n",
        "\n",
        "#splitting the data\n",
        "x_train, x_test, y_train, y_test = train_test_split(x_new, y_new, test_size=0.2, random_state=42)"
      ]
    },
    {
      "cell_type": "code",
      "execution_count": null,
      "metadata": {
        "colab": {
          "base_uri": "https://localhost:8080/"
        },
        "id": "4NjUWgAHkJzc",
        "outputId": "91d9425f-35cc-4671-d838-328c164b9773"
      },
      "outputs": [
        {
          "output_type": "stream",
          "name": "stdout",
          "text": [
            "Model: \"sequential\"\n",
            "_________________________________________________________________\n",
            " Layer (type)                Output Shape              Param #   \n",
            "=================================================================\n",
            " lstm (LSTM)                 (None, 50, 256)           264192    \n",
            "                                                                 \n",
            " dropout (Dropout)           (None, 50, 256)           0         \n",
            "                                                                 \n",
            " lstm_1 (LSTM)               (None, 256)               525312    \n",
            "                                                                 \n",
            " dropout_1 (Dropout)         (None, 256)               0         \n",
            "                                                                 \n",
            " dense (Dense)               (None, 256)               65792     \n",
            "                                                                 \n",
            " dense_1 (Dense)             (None, 182)               46774     \n",
            "                                                                 \n",
            "=================================================================\n",
            "Total params: 902070 (3.44 MB)\n",
            "Trainable params: 902070 (3.44 MB)\n",
            "Non-trainable params: 0 (0.00 Byte)\n",
            "_________________________________________________________________\n"
          ]
        }
      ],
      "source": [
        "#Building the model\n",
        "\n",
        "model = Sequential()\n",
        "model.add(LSTM(256, return_sequences=True, input_shape=(x_new.shape[1], x_new.shape[2])))\n",
        "model.add(Dropout(0.2))\n",
        "model.add(LSTM(256))\n",
        "model.add(Dropout(0.2))\n",
        "model.add(Dense(256, activation='relu'))\n",
        "model.add(Dense(len(note2ind), activation='softmax'))\n",
        "\n",
        "model.summary()"
      ]
    },
    {
      "cell_type": "code",
      "execution_count": null,
      "metadata": {
        "colab": {
          "base_uri": "https://localhost:8080/"
        },
        "id": "Fx4HUol0lAVS",
        "outputId": "57665ac5-51ae-4dde-cf8b-e80591947aaf"
      },
      "outputs": [
        {
          "output_type": "stream",
          "name": "stdout",
          "text": [
            "Epoch 1/40\n",
            "489/489 [==============================] - 491s 994ms/step - loss: 4.7446 - accuracy: 0.0291 - val_loss: 4.6339 - val_accuracy: 0.0421\n",
            "Epoch 2/40\n",
            "489/489 [==============================] - 483s 987ms/step - loss: 4.5590 - accuracy: 0.0496 - val_loss: 4.4886 - val_accuracy: 0.0576\n",
            "Epoch 3/40\n",
            "489/489 [==============================] - 481s 984ms/step - loss: 4.3711 - accuracy: 0.0715 - val_loss: 4.2606 - val_accuracy: 0.0894\n",
            "Epoch 4/40\n",
            "489/489 [==============================] - 483s 988ms/step - loss: 4.1055 - accuracy: 0.1056 - val_loss: 4.0100 - val_accuracy: 0.1195\n",
            "Epoch 5/40\n",
            "489/489 [==============================] - 481s 982ms/step - loss: 3.8252 - accuracy: 0.1426 - val_loss: 3.8044 - val_accuracy: 0.1490\n",
            "Epoch 6/40\n",
            "489/489 [==============================] - 487s 996ms/step - loss: 3.5716 - accuracy: 0.1719 - val_loss: 3.5892 - val_accuracy: 0.1760\n",
            "Epoch 7/40\n",
            "489/489 [==============================] - 494s 1s/step - loss: 3.3550 - accuracy: 0.2055 - val_loss: 3.4758 - val_accuracy: 0.1956\n",
            "Epoch 8/40\n",
            "489/489 [==============================] - 485s 993ms/step - loss: 3.1639 - accuracy: 0.2358 - val_loss: 3.3216 - val_accuracy: 0.2163\n",
            "Epoch 9/40\n",
            "489/489 [==============================] - 484s 991ms/step - loss: 3.0084 - accuracy: 0.2576 - val_loss: 3.2289 - val_accuracy: 0.2382\n",
            "Epoch 10/40\n",
            "489/489 [==============================] - 485s 992ms/step - loss: 2.8671 - accuracy: 0.2815 - val_loss: 3.1688 - val_accuracy: 0.2527\n",
            "Epoch 11/40\n",
            "489/489 [==============================] - 486s 993ms/step - loss: 2.7385 - accuracy: 0.3053 - val_loss: 3.0878 - val_accuracy: 0.2610\n",
            "Epoch 12/40\n",
            "489/489 [==============================] - 483s 988ms/step - loss: 2.6313 - accuracy: 0.3237 - val_loss: 3.0608 - val_accuracy: 0.2693\n",
            "Epoch 13/40\n",
            "489/489 [==============================] - 470s 961ms/step - loss: 2.5348 - accuracy: 0.3425 - val_loss: 2.9954 - val_accuracy: 0.2883\n",
            "Epoch 14/40\n",
            "489/489 [==============================] - 476s 974ms/step - loss: 2.4399 - accuracy: 0.3597 - val_loss: 2.9627 - val_accuracy: 0.2928\n",
            "Epoch 15/40\n",
            "489/489 [==============================] - 481s 984ms/step - loss: 2.3508 - accuracy: 0.3765 - val_loss: 2.9292 - val_accuracy: 0.2980\n",
            "Epoch 16/40\n",
            "489/489 [==============================] - 489s 1000ms/step - loss: 2.2757 - accuracy: 0.3908 - val_loss: 2.9143 - val_accuracy: 0.3097\n",
            "Epoch 17/40\n",
            "489/489 [==============================] - 479s 981ms/step - loss: 2.2042 - accuracy: 0.4074 - val_loss: 2.8792 - val_accuracy: 0.3173\n",
            "Epoch 18/40\n",
            "489/489 [==============================] - 482s 986ms/step - loss: 2.1414 - accuracy: 0.4214 - val_loss: 2.8775 - val_accuracy: 0.3258\n",
            "Epoch 19/40\n",
            "489/489 [==============================] - 480s 982ms/step - loss: 2.0713 - accuracy: 0.4346 - val_loss: 2.8315 - val_accuracy: 0.3332\n",
            "Epoch 20/40\n",
            "489/489 [==============================] - 480s 981ms/step - loss: 2.0187 - accuracy: 0.4462 - val_loss: 2.8299 - val_accuracy: 0.3371\n",
            "Epoch 21/40\n",
            "489/489 [==============================] - 480s 983ms/step - loss: 1.9708 - accuracy: 0.4558 - val_loss: 2.8255 - val_accuracy: 0.3438\n",
            "Epoch 22/40\n",
            "489/489 [==============================] - 485s 991ms/step - loss: 1.9175 - accuracy: 0.4694 - val_loss: 2.8102 - val_accuracy: 0.3504\n",
            "Epoch 23/40\n",
            "489/489 [==============================] - 491s 1s/step - loss: 1.8777 - accuracy: 0.4790 - val_loss: 2.7924 - val_accuracy: 0.3597\n",
            "Epoch 24/40\n",
            "489/489 [==============================] - 491s 1s/step - loss: 1.8260 - accuracy: 0.4896 - val_loss: 2.7972 - val_accuracy: 0.3675\n",
            "Epoch 25/40\n",
            "489/489 [==============================] - 485s 992ms/step - loss: 1.7963 - accuracy: 0.4963 - val_loss: 2.7912 - val_accuracy: 0.3692\n",
            "Epoch 26/40\n",
            "489/489 [==============================] - 487s 996ms/step - loss: 1.7556 - accuracy: 0.5065 - val_loss: 2.7845 - val_accuracy: 0.3736\n",
            "Epoch 27/40\n",
            "489/489 [==============================] - 481s 984ms/step - loss: 1.7168 - accuracy: 0.5144 - val_loss: 2.7640 - val_accuracy: 0.3769\n",
            "Epoch 28/40\n",
            "489/489 [==============================] - 478s 978ms/step - loss: 1.6855 - accuracy: 0.5218 - val_loss: 2.7714 - val_accuracy: 0.3803\n",
            "Epoch 29/40\n",
            "489/489 [==============================] - 477s 976ms/step - loss: 1.6475 - accuracy: 0.5292 - val_loss: 2.7745 - val_accuracy: 0.3882\n",
            "Epoch 30/40\n",
            "489/489 [==============================] - 473s 968ms/step - loss: 1.6134 - accuracy: 0.5393 - val_loss: 2.7679 - val_accuracy: 0.3875\n",
            "Epoch 31/40\n",
            "489/489 [==============================] - 463s 945ms/step - loss: 1.5854 - accuracy: 0.5442 - val_loss: 2.7682 - val_accuracy: 0.3917\n",
            "Epoch 32/40\n",
            "489/489 [==============================] - 459s 940ms/step - loss: 1.5590 - accuracy: 0.5503 - val_loss: 2.7467 - val_accuracy: 0.4002\n",
            "Epoch 33/40\n",
            "489/489 [==============================] - 462s 945ms/step - loss: 1.5311 - accuracy: 0.5570 - val_loss: 2.7518 - val_accuracy: 0.4024\n",
            "Epoch 34/40\n",
            "489/489 [==============================] - 461s 942ms/step - loss: 1.5089 - accuracy: 0.5621 - val_loss: 2.7487 - val_accuracy: 0.4067\n",
            "Epoch 35/40\n",
            "489/489 [==============================] - 460s 941ms/step - loss: 1.4707 - accuracy: 0.5733 - val_loss: 2.7844 - val_accuracy: 0.4054\n",
            "Epoch 36/40\n",
            "489/489 [==============================] - 459s 939ms/step - loss: 1.4676 - accuracy: 0.5737 - val_loss: 2.7594 - val_accuracy: 0.4153\n",
            "Epoch 37/40\n",
            "489/489 [==============================] - 451s 922ms/step - loss: 1.4338 - accuracy: 0.5812 - val_loss: 2.7866 - val_accuracy: 0.4102\n",
            "Epoch 38/40\n",
            "489/489 [==============================] - 460s 940ms/step - loss: 1.4272 - accuracy: 0.5802 - val_loss: 2.7813 - val_accuracy: 0.4177\n",
            "Epoch 39/40\n",
            "489/489 [==============================] - 456s 932ms/step - loss: 1.3950 - accuracy: 0.5891 - val_loss: 2.7775 - val_accuracy: 0.4226\n",
            "Epoch 40/40\n",
            "489/489 [==============================] - 471s 963ms/step - loss: 1.3827 - accuracy: 0.5919 - val_loss: 2.7728 - val_accuracy: 0.4234\n"
          ]
        },
        {
          "output_type": "execute_result",
          "data": {
            "text/plain": [
              "<keras.src.callbacks.History at 0x7f5764129300>"
            ]
          },
          "metadata": {},
          "execution_count": 11
        }
      ],
      "source": [
        "#compiling the model\n",
        "model.compile(loss='sparse_categorical_crossentropy', optimizer='adam', metrics=['accuracy'])\n",
        "\n",
        "#training the model\n",
        "model.fit(x_train, y_train, batch_size=128, epochs=40, validation_data=(x_test, y_test))"
      ]
    },
    {
      "cell_type": "code",
      "execution_count": null,
      "metadata": {
        "id": "vu8Q4cOql-4m"
      },
      "outputs": [],
      "source": [
        "#saving the model\n",
        "model.save(\"lstm\")"
      ]
    },
    {
      "cell_type": "code",
      "execution_count": null,
      "metadata": {
        "id": "utN6akswmKEV",
        "colab": {
          "base_uri": "https://localhost:8080/"
        },
        "outputId": "25952ee7-a4cf-4bd4-f8ae-5271e292bcc5"
      },
      "outputs": [
        {
          "output_type": "stream",
          "name": "stdout",
          "text": [
            "1/1 [==============================] - 1s 814ms/step\n",
            "1/1 [==============================] - 0s 34ms/step\n",
            "1/1 [==============================] - 0s 47ms/step\n",
            "1/1 [==============================] - 0s 34ms/step\n",
            "1/1 [==============================] - 0s 38ms/step\n",
            "1/1 [==============================] - 0s 48ms/step\n",
            "1/1 [==============================] - 0s 55ms/step\n",
            "1/1 [==============================] - 0s 50ms/step\n",
            "1/1 [==============================] - 0s 64ms/step\n",
            "1/1 [==============================] - 0s 47ms/step\n",
            "1/1 [==============================] - 0s 47ms/step\n",
            "1/1 [==============================] - 0s 54ms/step\n",
            "1/1 [==============================] - 0s 50ms/step\n",
            "1/1 [==============================] - 0s 58ms/step\n",
            "1/1 [==============================] - 0s 53ms/step\n",
            "1/1 [==============================] - 0s 45ms/step\n",
            "1/1 [==============================] - 0s 53ms/step\n",
            "1/1 [==============================] - 0s 46ms/step\n",
            "1/1 [==============================] - 0s 47ms/step\n",
            "1/1 [==============================] - 0s 47ms/step\n",
            "1/1 [==============================] - 0s 60ms/step\n",
            "1/1 [==============================] - 0s 50ms/step\n",
            "1/1 [==============================] - 0s 47ms/step\n",
            "1/1 [==============================] - 0s 66ms/step\n",
            "1/1 [==============================] - 0s 51ms/step\n",
            "1/1 [==============================] - 0s 56ms/step\n",
            "1/1 [==============================] - 0s 49ms/step\n",
            "1/1 [==============================] - 0s 53ms/step\n",
            "1/1 [==============================] - 0s 57ms/step\n",
            "1/1 [==============================] - 0s 47ms/step\n",
            "1/1 [==============================] - 0s 40ms/step\n",
            "1/1 [==============================] - 0s 32ms/step\n",
            "1/1 [==============================] - 0s 34ms/step\n",
            "1/1 [==============================] - 0s 40ms/step\n",
            "1/1 [==============================] - 0s 36ms/step\n",
            "1/1 [==============================] - 0s 35ms/step\n",
            "1/1 [==============================] - 0s 35ms/step\n",
            "1/1 [==============================] - 0s 34ms/step\n",
            "1/1 [==============================] - 0s 42ms/step\n",
            "1/1 [==============================] - 0s 35ms/step\n",
            "1/1 [==============================] - 0s 40ms/step\n",
            "1/1 [==============================] - 0s 38ms/step\n",
            "1/1 [==============================] - 0s 38ms/step\n",
            "1/1 [==============================] - 0s 41ms/step\n",
            "1/1 [==============================] - 0s 34ms/step\n",
            "1/1 [==============================] - 0s 40ms/step\n",
            "1/1 [==============================] - 0s 37ms/step\n",
            "1/1 [==============================] - 0s 36ms/step\n",
            "1/1 [==============================] - 0s 38ms/step\n",
            "1/1 [==============================] - 0s 48ms/step\n",
            "1/1 [==============================] - 0s 38ms/step\n",
            "1/1 [==============================] - 0s 41ms/step\n",
            "1/1 [==============================] - 0s 41ms/step\n",
            "1/1 [==============================] - 0s 42ms/step\n",
            "1/1 [==============================] - 0s 43ms/step\n",
            "1/1 [==============================] - 0s 37ms/step\n",
            "1/1 [==============================] - 0s 42ms/step\n",
            "1/1 [==============================] - 0s 36ms/step\n",
            "1/1 [==============================] - 0s 37ms/step\n",
            "1/1 [==============================] - 0s 37ms/step\n",
            "1/1 [==============================] - 0s 36ms/step\n",
            "1/1 [==============================] - 0s 36ms/step\n",
            "1/1 [==============================] - 0s 38ms/step\n",
            "1/1 [==============================] - 0s 45ms/step\n",
            "1/1 [==============================] - 0s 37ms/step\n",
            "1/1 [==============================] - 0s 40ms/step\n",
            "1/1 [==============================] - 0s 39ms/step\n",
            "1/1 [==============================] - 0s 39ms/step\n",
            "1/1 [==============================] - 0s 39ms/step\n",
            "1/1 [==============================] - 0s 41ms/step\n",
            "1/1 [==============================] - 0s 40ms/step\n",
            "1/1 [==============================] - 0s 40ms/step\n",
            "1/1 [==============================] - 0s 38ms/step\n",
            "1/1 [==============================] - 0s 43ms/step\n",
            "1/1 [==============================] - 0s 37ms/step\n",
            "1/1 [==============================] - 0s 42ms/step\n",
            "1/1 [==============================] - 0s 42ms/step\n",
            "1/1 [==============================] - 0s 39ms/step\n",
            "1/1 [==============================] - 0s 35ms/step\n",
            "1/1 [==============================] - 0s 35ms/step\n",
            "1/1 [==============================] - 0s 45ms/step\n",
            "1/1 [==============================] - 0s 35ms/step\n",
            "1/1 [==============================] - 0s 47ms/step\n",
            "1/1 [==============================] - 0s 40ms/step\n",
            "1/1 [==============================] - 0s 42ms/step\n",
            "1/1 [==============================] - 0s 34ms/step\n",
            "1/1 [==============================] - 0s 33ms/step\n",
            "1/1 [==============================] - 0s 40ms/step\n",
            "1/1 [==============================] - 0s 38ms/step\n",
            "1/1 [==============================] - 0s 36ms/step\n",
            "1/1 [==============================] - 0s 39ms/step\n",
            "1/1 [==============================] - 0s 46ms/step\n",
            "1/1 [==============================] - 0s 39ms/step\n",
            "1/1 [==============================] - 0s 34ms/step\n",
            "1/1 [==============================] - 0s 33ms/step\n",
            "1/1 [==============================] - 0s 33ms/step\n",
            "1/1 [==============================] - 0s 32ms/step\n",
            "1/1 [==============================] - 0s 37ms/step\n",
            "1/1 [==============================] - 0s 35ms/step\n",
            "1/1 [==============================] - 0s 36ms/step\n",
            "1/1 [==============================] - 0s 32ms/step\n",
            "1/1 [==============================] - 0s 34ms/step\n",
            "1/1 [==============================] - 0s 36ms/step\n",
            "1/1 [==============================] - 0s 42ms/step\n",
            "1/1 [==============================] - 0s 33ms/step\n",
            "1/1 [==============================] - 0s 33ms/step\n",
            "1/1 [==============================] - 0s 38ms/step\n",
            "1/1 [==============================] - 0s 39ms/step\n",
            "1/1 [==============================] - 0s 37ms/step\n",
            "1/1 [==============================] - 0s 33ms/step\n",
            "1/1 [==============================] - 0s 39ms/step\n",
            "1/1 [==============================] - 0s 33ms/step\n",
            "1/1 [==============================] - 0s 33ms/step\n",
            "1/1 [==============================] - 0s 33ms/step\n",
            "1/1 [==============================] - 0s 34ms/step\n",
            "1/1 [==============================] - 0s 45ms/step\n",
            "1/1 [==============================] - 0s 33ms/step\n",
            "1/1 [==============================] - 0s 35ms/step\n",
            "1/1 [==============================] - 0s 31ms/step\n",
            "1/1 [==============================] - 0s 31ms/step\n",
            "1/1 [==============================] - 0s 33ms/step\n",
            "1/1 [==============================] - 0s 41ms/step\n",
            "1/1 [==============================] - 0s 35ms/step\n",
            "1/1 [==============================] - 0s 29ms/step\n",
            "1/1 [==============================] - 0s 31ms/step\n",
            "1/1 [==============================] - 0s 36ms/step\n",
            "1/1 [==============================] - 0s 34ms/step\n",
            "1/1 [==============================] - 0s 32ms/step\n",
            "1/1 [==============================] - 0s 30ms/step\n",
            "1/1 [==============================] - 0s 33ms/step\n",
            "1/1 [==============================] - 0s 33ms/step\n",
            "1/1 [==============================] - 0s 32ms/step\n",
            "1/1 [==============================] - 0s 34ms/step\n",
            "1/1 [==============================] - 0s 32ms/step\n",
            "1/1 [==============================] - 0s 37ms/step\n",
            "1/1 [==============================] - 0s 33ms/step\n",
            "1/1 [==============================] - 0s 32ms/step\n",
            "1/1 [==============================] - 0s 31ms/step\n",
            "1/1 [==============================] - 0s 44ms/step\n",
            "1/1 [==============================] - 0s 32ms/step\n",
            "1/1 [==============================] - 0s 44ms/step\n",
            "1/1 [==============================] - 0s 46ms/step\n",
            "1/1 [==============================] - 0s 48ms/step\n",
            "1/1 [==============================] - 0s 57ms/step\n",
            "1/1 [==============================] - 0s 47ms/step\n",
            "1/1 [==============================] - 0s 48ms/step\n",
            "1/1 [==============================] - 0s 48ms/step\n",
            "1/1 [==============================] - 0s 51ms/step\n",
            "1/1 [==============================] - 0s 55ms/step\n",
            "1/1 [==============================] - 0s 46ms/step\n",
            "1/1 [==============================] - 0s 49ms/step\n",
            "1/1 [==============================] - 0s 56ms/step\n",
            "1/1 [==============================] - 0s 48ms/step\n",
            "1/1 [==============================] - 0s 47ms/step\n",
            "1/1 [==============================] - 0s 51ms/step\n",
            "1/1 [==============================] - 0s 59ms/step\n",
            "1/1 [==============================] - 0s 46ms/step\n",
            "1/1 [==============================] - 0s 47ms/step\n",
            "1/1 [==============================] - 0s 49ms/step\n",
            "1/1 [==============================] - 0s 45ms/step\n",
            "1/1 [==============================] - 0s 46ms/step\n",
            "1/1 [==============================] - 0s 46ms/step\n",
            "1/1 [==============================] - 0s 56ms/step\n",
            "1/1 [==============================] - 0s 58ms/step\n",
            "1/1 [==============================] - 0s 47ms/step\n",
            "1/1 [==============================] - 0s 47ms/step\n",
            "1/1 [==============================] - 0s 57ms/step\n",
            "1/1 [==============================] - 0s 47ms/step\n",
            "1/1 [==============================] - 0s 35ms/step\n",
            "1/1 [==============================] - 0s 35ms/step\n",
            "1/1 [==============================] - 0s 32ms/step\n",
            "1/1 [==============================] - 0s 32ms/step\n",
            "1/1 [==============================] - 0s 39ms/step\n",
            "1/1 [==============================] - 0s 31ms/step\n",
            "1/1 [==============================] - 0s 33ms/step\n",
            "1/1 [==============================] - 0s 35ms/step\n",
            "1/1 [==============================] - 0s 37ms/step\n",
            "1/1 [==============================] - 0s 48ms/step\n",
            "1/1 [==============================] - 0s 35ms/step\n",
            "1/1 [==============================] - 0s 41ms/step\n",
            "1/1 [==============================] - 0s 32ms/step\n",
            "1/1 [==============================] - 0s 36ms/step\n",
            "1/1 [==============================] - 0s 32ms/step\n",
            "1/1 [==============================] - 0s 37ms/step\n",
            "1/1 [==============================] - 0s 31ms/step\n",
            "1/1 [==============================] - 0s 32ms/step\n",
            "1/1 [==============================] - 0s 33ms/step\n",
            "1/1 [==============================] - 0s 37ms/step\n",
            "1/1 [==============================] - 0s 36ms/step\n",
            "1/1 [==============================] - 0s 42ms/step\n",
            "1/1 [==============================] - 0s 34ms/step\n",
            "1/1 [==============================] - 0s 41ms/step\n",
            "1/1 [==============================] - 0s 34ms/step\n",
            "1/1 [==============================] - 0s 36ms/step\n",
            "1/1 [==============================] - 0s 32ms/step\n",
            "1/1 [==============================] - 0s 39ms/step\n",
            "1/1 [==============================] - 0s 40ms/step\n",
            "1/1 [==============================] - 0s 39ms/step\n",
            "1/1 [==============================] - 0s 35ms/step\n",
            "1/1 [==============================] - 0s 40ms/step\n"
          ]
        }
      ],
      "source": [
        "#loading the model\n",
        "model = load_model(\"lstm\")\n",
        "\n",
        "#generating random index\n",
        "index = np.random.randint(0, len(x_test)-1)\n",
        "\n",
        "#get data present in the generated index place in x_test\n",
        "music_pattern = x_test[index]\n",
        "out_pred = []\n",
        "\n",
        "#iterating till 200 note is generated\n",
        "for i in range(200):\n",
        "  music_pattern = music_pattern.reshape(1, len(music_pattern), 1)\n",
        "\n",
        "  #getting the max prob value from the generated outputs\n",
        "  pred_index = np.argmax(model.predict(music_pattern))\n",
        "\n",
        "  #get the note using the preddicted index\n",
        "  #append the note to the predicted list\n",
        "  out_pred.append(ind2note[pred_index])\n",
        "  music_pattern = np.append(music_pattern, pred_index)\n",
        "\n",
        "  #update the music pattern with one timestamp ahead\n",
        "  music_pattern = music_pattern[1:]"
      ]
    },
    {
      "cell_type": "code",
      "execution_count": null,
      "metadata": {
        "id": "POIdOU_RoVYt",
        "colab": {
          "base_uri": "https://localhost:8080/",
          "height": 36
        },
        "outputId": "7f91ab49-4a0a-484c-887a-d9483502011a"
      },
      "outputs": [
        {
          "output_type": "execute_result",
          "data": {
            "text/plain": [
              "'pred_music.mid'"
            ],
            "application/vnd.google.colaboratory.intrinsic+json": {
              "type": "string"
            }
          },
          "metadata": {},
          "execution_count": 14
        }
      ],
      "source": [
        "#saving the file\n",
        "output_notes = []\n",
        "\n",
        "for offset, pattern in enumerate(out_pred):\n",
        "  #if pattern is a chord instance\n",
        "  if ('.' in pattern) or pattern.isdigit():\n",
        "    #split notes from the chord\n",
        "    notes_in_chord = pattern.split('.')\n",
        "    notes = []\n",
        "\n",
        "    for current_note in notes_in_chord:\n",
        "      i_curr_note = int(current_note)\n",
        "\n",
        "      new_note = note.Note(i_curr_note)\n",
        "      new_note.storedInstrument = instrument.Piano()\n",
        "      notes.append(new_note)\n",
        "\n",
        "    new_chord = chord.Chord(notes)\n",
        "    new_chord.offset = offset\n",
        "    output_notes.append(new_chord)\n",
        "\n",
        "  else:\n",
        "    new_note = note.Note(pattern)\n",
        "    new_note.offset = offset\n",
        "    new_note.storedInstrument = instrument.Piano()\n",
        "    output_notes.append(new_note)\n",
        "\n",
        "#saving the midi file\n",
        "midi_stream = stream.Stream(output_notes)\n",
        "midi_stream.write('midi', fp='pred_music.mid')"
      ]
    }
  ],
  "metadata": {
    "colab": {
      "provenance": [],
      "authorship_tag": "ABX9TyN4Os6uSdQuWwpPhLNauHcY",
      "include_colab_link": true
    },
    "kernelspec": {
      "display_name": "Python 3",
      "name": "python3"
    },
    "language_info": {
      "name": "python"
    }
  },
  "nbformat": 4,
  "nbformat_minor": 0
}